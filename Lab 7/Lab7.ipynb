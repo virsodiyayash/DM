{
 "cells": [
  {
   "cell_type": "markdown",
   "id": "02b33ee5",
   "metadata": {},
   "source": [
    "<a href='https://www.darshan.ac.in/'> <img src='https://www.darshan.ac.in/Content/media/DU_Logo.svg' width=\"250\" height=\"300\"/></a>\n",
    "<pre>\n",
    "<center><b><h1>Data Mining</b></center>\n",
    "<center><b><h1>Lab - 7 (Part 2)</b></center>    \n",
    "<pre>"
   ]
  },
  {
   "cell_type": "markdown",
   "id": "08f0806f",
   "metadata": {},
   "source": [
    "### Step 1: Load the Dataset\n",
    "Load the `Tdata.csv` file and display the first few rows."
   ]
  },
  {
   "cell_type": "code",
   "execution_count": 1,
   "id": "dd419a98",
   "metadata": {},
   "outputs": [
    {
     "data": {
      "text/html": [
       "<div>\n",
       "<style scoped>\n",
       "    .dataframe tbody tr th:only-of-type {\n",
       "        vertical-align: middle;\n",
       "    }\n",
       "\n",
       "    .dataframe tbody tr th {\n",
       "        vertical-align: top;\n",
       "    }\n",
       "\n",
       "    .dataframe thead th {\n",
       "        text-align: right;\n",
       "    }\n",
       "</style>\n",
       "<table border=\"1\" class=\"dataframe\">\n",
       "  <thead>\n",
       "    <tr style=\"text-align: right;\">\n",
       "      <th></th>\n",
       "      <th>Transaction</th>\n",
       "      <th>bread</th>\n",
       "      <th>butter</th>\n",
       "      <th>coffee</th>\n",
       "      <th>eggs</th>\n",
       "      <th>jam</th>\n",
       "      <th>milk</th>\n",
       "    </tr>\n",
       "  </thead>\n",
       "  <tbody>\n",
       "    <tr>\n",
       "      <th>0</th>\n",
       "      <td>T1</td>\n",
       "      <td>1</td>\n",
       "      <td>1</td>\n",
       "      <td>0</td>\n",
       "      <td>0</td>\n",
       "      <td>0</td>\n",
       "      <td>1</td>\n",
       "    </tr>\n",
       "    <tr>\n",
       "      <th>1</th>\n",
       "      <td>T2</td>\n",
       "      <td>1</td>\n",
       "      <td>1</td>\n",
       "      <td>0</td>\n",
       "      <td>0</td>\n",
       "      <td>1</td>\n",
       "      <td>0</td>\n",
       "    </tr>\n",
       "    <tr>\n",
       "      <th>2</th>\n",
       "      <td>T3</td>\n",
       "      <td>1</td>\n",
       "      <td>0</td>\n",
       "      <td>0</td>\n",
       "      <td>1</td>\n",
       "      <td>0</td>\n",
       "      <td>1</td>\n",
       "    </tr>\n",
       "    <tr>\n",
       "      <th>3</th>\n",
       "      <td>T4</td>\n",
       "      <td>1</td>\n",
       "      <td>1</td>\n",
       "      <td>0</td>\n",
       "      <td>0</td>\n",
       "      <td>0</td>\n",
       "      <td>1</td>\n",
       "    </tr>\n",
       "    <tr>\n",
       "      <th>4</th>\n",
       "      <td>T5</td>\n",
       "      <td>1</td>\n",
       "      <td>0</td>\n",
       "      <td>1</td>\n",
       "      <td>0</td>\n",
       "      <td>0</td>\n",
       "      <td>0</td>\n",
       "    </tr>\n",
       "    <tr>\n",
       "      <th>5</th>\n",
       "      <td>T6</td>\n",
       "      <td>0</td>\n",
       "      <td>0</td>\n",
       "      <td>1</td>\n",
       "      <td>1</td>\n",
       "      <td>1</td>\n",
       "      <td>0</td>\n",
       "    </tr>\n",
       "  </tbody>\n",
       "</table>\n",
       "</div>"
      ],
      "text/plain": [
       "  Transaction  bread  butter  coffee  eggs  jam  milk\n",
       "0          T1      1       1       0     0    0     1\n",
       "1          T2      1       1       0     0    1     0\n",
       "2          T3      1       0       0     1    0     1\n",
       "3          T4      1       1       0     0    0     1\n",
       "4          T5      1       0       1     0    0     0\n",
       "5          T6      0       0       1     1    1     0"
      ]
     },
     "execution_count": 1,
     "metadata": {},
     "output_type": "execute_result"
    }
   ],
   "source": [
    "import pandas as pd\n",
    "\n",
    "df = pd.read_csv(\"./Tdata.csv\")\n",
    "df"
   ]
  },
  {
   "cell_type": "markdown",
   "id": "3532ee71",
   "metadata": {},
   "source": [
    "### Step 2: Drop the 'Transaction' Column\n",
    "We're only interested in the items (not the transaction IDs)."
   ]
  },
  {
   "cell_type": "code",
   "execution_count": 18,
   "id": "e2575fe6",
   "metadata": {},
   "outputs": [
    {
     "ename": "KeyError",
     "evalue": "\"['Transaction'] not found in axis\"",
     "output_type": "error",
     "traceback": [
      "\u001b[1;31m---------------------------------------------------------------------------\u001b[0m",
      "\u001b[1;31mKeyError\u001b[0m                                  Traceback (most recent call last)",
      "Cell \u001b[1;32mIn[18], line 1\u001b[0m\n\u001b[1;32m----> 1\u001b[0m df_items \u001b[38;5;241m=\u001b[39m \u001b[43mdf\u001b[49m\u001b[38;5;241;43m.\u001b[39;49m\u001b[43mdrop\u001b[49m\u001b[43m(\u001b[49m\u001b[43mcolumns\u001b[49m\u001b[38;5;241;43m=\u001b[39;49m\u001b[43m[\u001b[49m\u001b[38;5;124;43m\"\u001b[39;49m\u001b[38;5;124;43mTransaction\u001b[39;49m\u001b[38;5;124;43m\"\u001b[39;49m\u001b[43m]\u001b[49m\u001b[43m \u001b[49m\u001b[43m,\u001b[49m\u001b[43m \u001b[49m\u001b[43minplace\u001b[49m\u001b[38;5;241;43m=\u001b[39;49m\u001b[38;5;28;43;01mTrue\u001b[39;49;00m\u001b[43m)\u001b[49m\n",
      "File \u001b[1;32mc:\\Users\\virso\\AppData\\Local\\Programs\\Python\\Python313\\Lib\\site-packages\\pandas\\core\\frame.py:5588\u001b[0m, in \u001b[0;36mDataFrame.drop\u001b[1;34m(self, labels, axis, index, columns, level, inplace, errors)\u001b[0m\n\u001b[0;32m   5440\u001b[0m \u001b[38;5;28;01mdef\u001b[39;00m \u001b[38;5;21mdrop\u001b[39m(\n\u001b[0;32m   5441\u001b[0m     \u001b[38;5;28mself\u001b[39m,\n\u001b[0;32m   5442\u001b[0m     labels: IndexLabel \u001b[38;5;241m|\u001b[39m \u001b[38;5;28;01mNone\u001b[39;00m \u001b[38;5;241m=\u001b[39m \u001b[38;5;28;01mNone\u001b[39;00m,\n\u001b[1;32m   (...)\u001b[0m\n\u001b[0;32m   5449\u001b[0m     errors: IgnoreRaise \u001b[38;5;241m=\u001b[39m \u001b[38;5;124m\"\u001b[39m\u001b[38;5;124mraise\u001b[39m\u001b[38;5;124m\"\u001b[39m,\n\u001b[0;32m   5450\u001b[0m ) \u001b[38;5;241m-\u001b[39m\u001b[38;5;241m>\u001b[39m DataFrame \u001b[38;5;241m|\u001b[39m \u001b[38;5;28;01mNone\u001b[39;00m:\n\u001b[0;32m   5451\u001b[0m \u001b[38;5;250m    \u001b[39m\u001b[38;5;124;03m\"\"\"\u001b[39;00m\n\u001b[0;32m   5452\u001b[0m \u001b[38;5;124;03m    Drop specified labels from rows or columns.\u001b[39;00m\n\u001b[0;32m   5453\u001b[0m \n\u001b[1;32m   (...)\u001b[0m\n\u001b[0;32m   5586\u001b[0m \u001b[38;5;124;03m            weight  1.0     0.8\u001b[39;00m\n\u001b[0;32m   5587\u001b[0m \u001b[38;5;124;03m    \"\"\"\u001b[39;00m\n\u001b[1;32m-> 5588\u001b[0m     \u001b[38;5;28;01mreturn\u001b[39;00m \u001b[38;5;28;43msuper\u001b[39;49m\u001b[43m(\u001b[49m\u001b[43m)\u001b[49m\u001b[38;5;241;43m.\u001b[39;49m\u001b[43mdrop\u001b[49m\u001b[43m(\u001b[49m\n\u001b[0;32m   5589\u001b[0m \u001b[43m        \u001b[49m\u001b[43mlabels\u001b[49m\u001b[38;5;241;43m=\u001b[39;49m\u001b[43mlabels\u001b[49m\u001b[43m,\u001b[49m\n\u001b[0;32m   5590\u001b[0m \u001b[43m        \u001b[49m\u001b[43maxis\u001b[49m\u001b[38;5;241;43m=\u001b[39;49m\u001b[43maxis\u001b[49m\u001b[43m,\u001b[49m\n\u001b[0;32m   5591\u001b[0m \u001b[43m        \u001b[49m\u001b[43mindex\u001b[49m\u001b[38;5;241;43m=\u001b[39;49m\u001b[43mindex\u001b[49m\u001b[43m,\u001b[49m\n\u001b[0;32m   5592\u001b[0m \u001b[43m        \u001b[49m\u001b[43mcolumns\u001b[49m\u001b[38;5;241;43m=\u001b[39;49m\u001b[43mcolumns\u001b[49m\u001b[43m,\u001b[49m\n\u001b[0;32m   5593\u001b[0m \u001b[43m        \u001b[49m\u001b[43mlevel\u001b[49m\u001b[38;5;241;43m=\u001b[39;49m\u001b[43mlevel\u001b[49m\u001b[43m,\u001b[49m\n\u001b[0;32m   5594\u001b[0m \u001b[43m        \u001b[49m\u001b[43minplace\u001b[49m\u001b[38;5;241;43m=\u001b[39;49m\u001b[43minplace\u001b[49m\u001b[43m,\u001b[49m\n\u001b[0;32m   5595\u001b[0m \u001b[43m        \u001b[49m\u001b[43merrors\u001b[49m\u001b[38;5;241;43m=\u001b[39;49m\u001b[43merrors\u001b[49m\u001b[43m,\u001b[49m\n\u001b[0;32m   5596\u001b[0m \u001b[43m    \u001b[49m\u001b[43m)\u001b[49m\n",
      "File \u001b[1;32mc:\\Users\\virso\\AppData\\Local\\Programs\\Python\\Python313\\Lib\\site-packages\\pandas\\core\\generic.py:4807\u001b[0m, in \u001b[0;36mNDFrame.drop\u001b[1;34m(self, labels, axis, index, columns, level, inplace, errors)\u001b[0m\n\u001b[0;32m   4805\u001b[0m \u001b[38;5;28;01mfor\u001b[39;00m axis, labels \u001b[38;5;129;01min\u001b[39;00m axes\u001b[38;5;241m.\u001b[39mitems():\n\u001b[0;32m   4806\u001b[0m     \u001b[38;5;28;01mif\u001b[39;00m labels \u001b[38;5;129;01mis\u001b[39;00m \u001b[38;5;129;01mnot\u001b[39;00m \u001b[38;5;28;01mNone\u001b[39;00m:\n\u001b[1;32m-> 4807\u001b[0m         obj \u001b[38;5;241m=\u001b[39m \u001b[43mobj\u001b[49m\u001b[38;5;241;43m.\u001b[39;49m\u001b[43m_drop_axis\u001b[49m\u001b[43m(\u001b[49m\u001b[43mlabels\u001b[49m\u001b[43m,\u001b[49m\u001b[43m \u001b[49m\u001b[43maxis\u001b[49m\u001b[43m,\u001b[49m\u001b[43m \u001b[49m\u001b[43mlevel\u001b[49m\u001b[38;5;241;43m=\u001b[39;49m\u001b[43mlevel\u001b[49m\u001b[43m,\u001b[49m\u001b[43m \u001b[49m\u001b[43merrors\u001b[49m\u001b[38;5;241;43m=\u001b[39;49m\u001b[43merrors\u001b[49m\u001b[43m)\u001b[49m\n\u001b[0;32m   4809\u001b[0m \u001b[38;5;28;01mif\u001b[39;00m inplace:\n\u001b[0;32m   4810\u001b[0m     \u001b[38;5;28mself\u001b[39m\u001b[38;5;241m.\u001b[39m_update_inplace(obj)\n",
      "File \u001b[1;32mc:\\Users\\virso\\AppData\\Local\\Programs\\Python\\Python313\\Lib\\site-packages\\pandas\\core\\generic.py:4849\u001b[0m, in \u001b[0;36mNDFrame._drop_axis\u001b[1;34m(self, labels, axis, level, errors, only_slice)\u001b[0m\n\u001b[0;32m   4847\u001b[0m         new_axis \u001b[38;5;241m=\u001b[39m axis\u001b[38;5;241m.\u001b[39mdrop(labels, level\u001b[38;5;241m=\u001b[39mlevel, errors\u001b[38;5;241m=\u001b[39merrors)\n\u001b[0;32m   4848\u001b[0m     \u001b[38;5;28;01melse\u001b[39;00m:\n\u001b[1;32m-> 4849\u001b[0m         new_axis \u001b[38;5;241m=\u001b[39m \u001b[43maxis\u001b[49m\u001b[38;5;241;43m.\u001b[39;49m\u001b[43mdrop\u001b[49m\u001b[43m(\u001b[49m\u001b[43mlabels\u001b[49m\u001b[43m,\u001b[49m\u001b[43m \u001b[49m\u001b[43merrors\u001b[49m\u001b[38;5;241;43m=\u001b[39;49m\u001b[43merrors\u001b[49m\u001b[43m)\u001b[49m\n\u001b[0;32m   4850\u001b[0m     indexer \u001b[38;5;241m=\u001b[39m axis\u001b[38;5;241m.\u001b[39mget_indexer(new_axis)\n\u001b[0;32m   4852\u001b[0m \u001b[38;5;66;03m# Case for non-unique axis\u001b[39;00m\n\u001b[0;32m   4853\u001b[0m \u001b[38;5;28;01melse\u001b[39;00m:\n",
      "File \u001b[1;32mc:\\Users\\virso\\AppData\\Local\\Programs\\Python\\Python313\\Lib\\site-packages\\pandas\\core\\indexes\\base.py:7098\u001b[0m, in \u001b[0;36mIndex.drop\u001b[1;34m(self, labels, errors)\u001b[0m\n\u001b[0;32m   7096\u001b[0m \u001b[38;5;28;01mif\u001b[39;00m mask\u001b[38;5;241m.\u001b[39many():\n\u001b[0;32m   7097\u001b[0m     \u001b[38;5;28;01mif\u001b[39;00m errors \u001b[38;5;241m!=\u001b[39m \u001b[38;5;124m\"\u001b[39m\u001b[38;5;124mignore\u001b[39m\u001b[38;5;124m\"\u001b[39m:\n\u001b[1;32m-> 7098\u001b[0m         \u001b[38;5;28;01mraise\u001b[39;00m \u001b[38;5;167;01mKeyError\u001b[39;00m(\u001b[38;5;124mf\u001b[39m\u001b[38;5;124m\"\u001b[39m\u001b[38;5;132;01m{\u001b[39;00mlabels[mask]\u001b[38;5;241m.\u001b[39mtolist()\u001b[38;5;132;01m}\u001b[39;00m\u001b[38;5;124m not found in axis\u001b[39m\u001b[38;5;124m\"\u001b[39m)\n\u001b[0;32m   7099\u001b[0m     indexer \u001b[38;5;241m=\u001b[39m indexer[\u001b[38;5;241m~\u001b[39mmask]\n\u001b[0;32m   7100\u001b[0m \u001b[38;5;28;01mreturn\u001b[39;00m \u001b[38;5;28mself\u001b[39m\u001b[38;5;241m.\u001b[39mdelete(indexer)\n",
      "\u001b[1;31mKeyError\u001b[0m: \"['Transaction'] not found in axis\""
     ]
    }
   ],
   "source": [
    "df_items = df.drop(columns=[\"Transaction\"] , inplace=True)"
   ]
  },
  {
   "cell_type": "markdown",
   "id": "f1f8e5fa",
   "metadata": {},
   "source": [
    "### Step 3: Count Single Items\n",
    "See how many transactions include each item."
   ]
  },
  {
   "cell_type": "code",
   "execution_count": 20,
   "id": "8770cf10",
   "metadata": {},
   "outputs": [
    {
     "data": {
      "text/plain": [
       "bread     5\n",
       "butter    3\n",
       "coffee    2\n",
       "eggs      2\n",
       "jam       2\n",
       "milk      3\n",
       "dtype: int64"
      ]
     },
     "execution_count": 20,
     "metadata": {},
     "output_type": "execute_result"
    }
   ],
   "source": [
    "df.sum()"
   ]
  },
  {
   "cell_type": "markdown",
   "id": "06a4f0e5",
   "metadata": {},
   "source": [
    "### Step 4: Define Apriori Function\n",
    "This function finds frequent itemsets of size 1, 2, and 3 with minimum support."
   ]
  },
  {
   "cell_type": "code",
   "execution_count": 25,
   "id": "d11baaab",
   "metadata": {},
   "outputs": [],
   "source": [
    "from itertools import combinations \n",
    "\n",
    "def find_frequent_itemsets(df , min_support):\n",
    "    n = len(df)\n",
    "    result = []\n",
    "\n",
    "    for k in [1 , 2 , 3]:\n",
    "        for items in combinations(df.columns , k):\n",
    "            mask = df[list(items)].all(axis = 1)\n",
    "            support = mask.sum()/n\n",
    "            print(f\"{frozenset(items)} -> {round(support , 2)}\")\n",
    "            if support >= min_support:\n",
    "                result.append((frozenset(items) , round(support , 2)))\n",
    "\n",
    "    return result"
   ]
  },
  {
   "cell_type": "markdown",
   "id": "ec43a005",
   "metadata": {},
   "source": [
    "### Step 5: Run Apriori\n",
    "Set `min_support = 0.6` and display the frequent itemsets."
   ]
  },
  {
   "cell_type": "code",
   "execution_count": 26,
   "id": "c6e33702",
   "metadata": {},
   "outputs": [
    {
     "name": "stdout",
     "output_type": "stream",
     "text": [
      "frozenset({'bread'}) -> 0.83\n",
      "frozenset({'butter'}) -> 0.5\n",
      "frozenset({'coffee'}) -> 0.33\n",
      "frozenset({'eggs'}) -> 0.33\n",
      "frozenset({'jam'}) -> 0.33\n",
      "frozenset({'milk'}) -> 0.5\n",
      "frozenset({'butter', 'bread'}) -> 0.5\n",
      "frozenset({'coffee', 'bread'}) -> 0.17\n",
      "frozenset({'bread', 'eggs'}) -> 0.17\n",
      "frozenset({'jam', 'bread'}) -> 0.17\n",
      "frozenset({'bread', 'milk'}) -> 0.5\n",
      "frozenset({'butter', 'coffee'}) -> 0.0\n",
      "frozenset({'butter', 'eggs'}) -> 0.0\n",
      "frozenset({'jam', 'butter'}) -> 0.17\n",
      "frozenset({'butter', 'milk'}) -> 0.33\n",
      "frozenset({'coffee', 'eggs'}) -> 0.17\n",
      "frozenset({'jam', 'coffee'}) -> 0.17\n",
      "frozenset({'coffee', 'milk'}) -> 0.0\n",
      "frozenset({'jam', 'eggs'}) -> 0.17\n",
      "frozenset({'eggs', 'milk'}) -> 0.17\n",
      "frozenset({'jam', 'milk'}) -> 0.0\n",
      "frozenset({'coffee', 'butter', 'bread'}) -> 0.0\n",
      "frozenset({'butter', 'bread', 'eggs'}) -> 0.0\n",
      "frozenset({'jam', 'butter', 'bread'}) -> 0.17\n",
      "frozenset({'butter', 'bread', 'milk'}) -> 0.33\n",
      "frozenset({'coffee', 'bread', 'eggs'}) -> 0.0\n",
      "frozenset({'jam', 'coffee', 'bread'}) -> 0.0\n",
      "frozenset({'coffee', 'bread', 'milk'}) -> 0.0\n",
      "frozenset({'jam', 'bread', 'eggs'}) -> 0.0\n",
      "frozenset({'bread', 'eggs', 'milk'}) -> 0.17\n",
      "frozenset({'jam', 'bread', 'milk'}) -> 0.0\n",
      "frozenset({'butter', 'coffee', 'eggs'}) -> 0.0\n",
      "frozenset({'jam', 'butter', 'coffee'}) -> 0.0\n",
      "frozenset({'butter', 'coffee', 'milk'}) -> 0.0\n",
      "frozenset({'jam', 'butter', 'eggs'}) -> 0.0\n",
      "frozenset({'butter', 'eggs', 'milk'}) -> 0.0\n",
      "frozenset({'jam', 'butter', 'milk'}) -> 0.0\n",
      "frozenset({'jam', 'coffee', 'eggs'}) -> 0.17\n",
      "frozenset({'coffee', 'eggs', 'milk'}) -> 0.0\n",
      "frozenset({'jam', 'coffee', 'milk'}) -> 0.0\n",
      "frozenset({'jam', 'eggs', 'milk'}) -> 0.0\n",
      "{'bread'} -> support : 0.83\n",
      "{'butter'} -> support : 0.5\n",
      "{'milk'} -> support : 0.5\n",
      "{'butter', 'bread'} -> support : 0.5\n",
      "{'bread', 'milk'} -> support : 0.5\n"
     ]
    }
   ],
   "source": [
    "fruquent_itemsets = find_frequent_itemsets(df , 0.5)\n",
    "\n",
    "for itemset , support in fruquent_itemsets:\n",
    "    print(f\"{set(itemset)} -> support : {support}\")"
   ]
  },
  {
   "cell_type": "markdown",
   "id": "0026f6da",
   "metadata": {},
   "source": [
    "### Step 6 Display as a DataFrame"
   ]
  },
  {
   "cell_type": "code",
   "execution_count": 28,
   "id": "2c772d61",
   "metadata": {},
   "outputs": [
    {
     "data": {
      "text/html": [
       "<div>\n",
       "<style scoped>\n",
       "    .dataframe tbody tr th:only-of-type {\n",
       "        vertical-align: middle;\n",
       "    }\n",
       "\n",
       "    .dataframe tbody tr th {\n",
       "        vertical-align: top;\n",
       "    }\n",
       "\n",
       "    .dataframe thead th {\n",
       "        text-align: right;\n",
       "    }\n",
       "</style>\n",
       "<table border=\"1\" class=\"dataframe\">\n",
       "  <thead>\n",
       "    <tr style=\"text-align: right;\">\n",
       "      <th></th>\n",
       "      <th>Itemset</th>\n",
       "      <th>Support</th>\n",
       "    </tr>\n",
       "  </thead>\n",
       "  <tbody>\n",
       "    <tr>\n",
       "      <th>0</th>\n",
       "      <td>(bread)</td>\n",
       "      <td>0.83</td>\n",
       "    </tr>\n",
       "    <tr>\n",
       "      <th>1</th>\n",
       "      <td>(butter)</td>\n",
       "      <td>0.50</td>\n",
       "    </tr>\n",
       "    <tr>\n",
       "      <th>2</th>\n",
       "      <td>(milk)</td>\n",
       "      <td>0.50</td>\n",
       "    </tr>\n",
       "    <tr>\n",
       "      <th>3</th>\n",
       "      <td>(butter, bread)</td>\n",
       "      <td>0.50</td>\n",
       "    </tr>\n",
       "    <tr>\n",
       "      <th>4</th>\n",
       "      <td>(bread, milk)</td>\n",
       "      <td>0.50</td>\n",
       "    </tr>\n",
       "  </tbody>\n",
       "</table>\n",
       "</div>"
      ],
      "text/plain": [
       "           Itemset  Support\n",
       "0          (bread)     0.83\n",
       "1         (butter)     0.50\n",
       "2           (milk)     0.50\n",
       "3  (butter, bread)     0.50\n",
       "4    (bread, milk)     0.50"
      ]
     },
     "execution_count": 28,
     "metadata": {},
     "output_type": "execute_result"
    }
   ],
   "source": [
    "result_df = pd.DataFrame(fruquent_itemsets , columns=[\"Itemset\" , \"Support\"])\n",
    "result_df"
   ]
  },
  {
   "cell_type": "code",
   "execution_count": null,
   "id": "686950f7",
   "metadata": {},
   "outputs": [],
   "source": []
  },
  {
   "cell_type": "markdown",
   "id": "068f6cea",
   "metadata": {},
   "source": [
    "# Orange Tool : - >Generate Same Frequent Patterns in Orange tools"
   ]
  },
  {
   "cell_type": "code",
   "execution_count": null,
   "id": "76aa891d",
   "metadata": {},
   "outputs": [],
   "source": []
  },
  {
   "cell_type": "markdown",
   "id": "744909d6",
   "metadata": {},
   "source": [
    "# Extra : - >  Define Apriori Function without itertools"
   ]
  },
  {
   "cell_type": "code",
   "execution_count": null,
   "id": "db8ff032",
   "metadata": {},
   "outputs": [],
   "source": []
  },
  {
   "cell_type": "code",
   "execution_count": null,
   "id": "d71a9b00",
   "metadata": {},
   "outputs": [],
   "source": []
  }
 ],
 "metadata": {
  "kernelspec": {
   "display_name": "Python 3",
   "language": "python",
   "name": "python3"
  },
  "language_info": {
   "codemirror_mode": {
    "name": "ipython",
    "version": 3
   },
   "file_extension": ".py",
   "mimetype": "text/x-python",
   "name": "python",
   "nbconvert_exporter": "python",
   "pygments_lexer": "ipython3",
   "version": "3.13.1"
  }
 },
 "nbformat": 4,
 "nbformat_minor": 5
}
