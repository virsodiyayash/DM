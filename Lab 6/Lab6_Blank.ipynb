{
 "cells": [
  {
   "cell_type": "markdown",
   "id": "ee840995",
   "metadata": {},
   "source": [
    "<a href='https://www.darshan.ac.in/'> <img src='https://www.darshan.ac.in/Content/media/DU_Logo.svg' width=\"250\" height=\"300\"/></a>\n",
    "<pre>\n",
    "<center><b><h1>Data Mining</b></center>\n",
    "<center><b><h1>Lab - 6</b></center>    \n",
    "<pre>\n",
    "\n",
    "\n",
    "# Dimensionality Reduction using NumPy\n",
    "\n"
   ]
  },
  {
   "cell_type": "markdown",
   "id": "55e2da2f",
   "metadata": {},
   "source": [
    "\n",
    "## 🔍 What is Data Reduction?\n",
    "\n",
    "Data reduction refers to the process of reducing the amount of data that needs to be processed and stored, while preserving the essential patterns in the data.\n",
    "\n",
    "### Why do we reduce data?\n",
    "- To reduce computational cost.\n",
    "- To remove noise and redundant features.\n",
    "- To improve model performance and training time.\n",
    "- To visualize high-dimensional data in 2D or 3D.\n",
    "\n",
    "Common data reduction techniques include:\n",
    "- Principal Component Analysis (PCA)\n",
    "- Feature selection\n",
    "- Sampling\n"
   ]
  },
  {
   "cell_type": "markdown",
   "id": "c57398c8",
   "metadata": {},
   "source": [
    "\n",
    "## 📉 What is Principal Component Analysis (PCA)?\n",
    "\n",
    "PCA is a **dimensionality reduction technique** that transforms a dataset into a new coordinate system. It identifies the **directions (principal components)** where the variance of the data is maximized.\n",
    "\n",
    "### Key Concepts:\n",
    "- **Principal Components**: New features (linear combinations of original features) capturing most variance.\n",
    "- **Eigenvectors & Eigenvalues**: Used to compute these principal directions.\n",
    "- **Covariance Matrix**: Measures how features vary with each other.\n",
    "\n",
    "PCA helps in **visualizing high-dimensional data**, **noise reduction**, and **speeding up algorithms**.\n"
   ]
  },
  {
   "cell_type": "markdown",
   "id": "8d08c528",
   "metadata": {},
   "source": [
    "\n",
    "## 🧠 NumPy Functions Summary for PCA\n",
    "\n",
    "| Function | Purpose |\n",
    "|---------|---------|\n",
    "| `np.mean(X, axis=0)` | Compute mean of each column (feature-wise mean). |\n",
    "| `X - np.mean(X, axis=0)` | Centering the data (zero mean). |\n",
    "| `np.cov(X, rowvar=False)` | Compute covariance matrix for features. |\n",
    "| `np.linalg.eigh(cov_mat)` | Get eigenvalues and eigenvectors (for symmetric matrices). |\n",
    "| `np.argsort(values)[::-1]` | Sort values in descending order. |\n",
    "| `np.dot(X, eigenvectors)` | Project original data onto new axes. |\n"
   ]
  },
  {
   "cell_type": "markdown",
   "id": "719ba8cf",
   "metadata": {},
   "source": [
    "# Step 1: Load the Iris Dataset"
   ]
  },
  {
   "cell_type": "code",
   "execution_count": 5,
   "id": "31f30ae7",
   "metadata": {},
   "outputs": [
    {
     "data": {
      "text/html": [
       "<div>\n",
       "<style scoped>\n",
       "    .dataframe tbody tr th:only-of-type {\n",
       "        vertical-align: middle;\n",
       "    }\n",
       "\n",
       "    .dataframe tbody tr th {\n",
       "        vertical-align: top;\n",
       "    }\n",
       "\n",
       "    .dataframe thead th {\n",
       "        text-align: right;\n",
       "    }\n",
       "</style>\n",
       "<table border=\"1\" class=\"dataframe\">\n",
       "  <thead>\n",
       "    <tr style=\"text-align: right;\">\n",
       "      <th></th>\n",
       "      <th>sepal_length</th>\n",
       "      <th>sepal_width</th>\n",
       "      <th>petal_length</th>\n",
       "      <th>petal_width</th>\n",
       "      <th>species</th>\n",
       "    </tr>\n",
       "  </thead>\n",
       "  <tbody>\n",
       "    <tr>\n",
       "      <th>0</th>\n",
       "      <td>5.1</td>\n",
       "      <td>3.5</td>\n",
       "      <td>1.4</td>\n",
       "      <td>0.2</td>\n",
       "      <td>setosa</td>\n",
       "    </tr>\n",
       "    <tr>\n",
       "      <th>1</th>\n",
       "      <td>4.9</td>\n",
       "      <td>3.0</td>\n",
       "      <td>1.4</td>\n",
       "      <td>0.2</td>\n",
       "      <td>setosa</td>\n",
       "    </tr>\n",
       "    <tr>\n",
       "      <th>2</th>\n",
       "      <td>4.7</td>\n",
       "      <td>3.2</td>\n",
       "      <td>1.3</td>\n",
       "      <td>0.2</td>\n",
       "      <td>setosa</td>\n",
       "    </tr>\n",
       "    <tr>\n",
       "      <th>3</th>\n",
       "      <td>4.6</td>\n",
       "      <td>3.1</td>\n",
       "      <td>1.5</td>\n",
       "      <td>0.2</td>\n",
       "      <td>setosa</td>\n",
       "    </tr>\n",
       "    <tr>\n",
       "      <th>4</th>\n",
       "      <td>5.0</td>\n",
       "      <td>3.6</td>\n",
       "      <td>1.4</td>\n",
       "      <td>0.2</td>\n",
       "      <td>setosa</td>\n",
       "    </tr>\n",
       "    <tr>\n",
       "      <th>...</th>\n",
       "      <td>...</td>\n",
       "      <td>...</td>\n",
       "      <td>...</td>\n",
       "      <td>...</td>\n",
       "      <td>...</td>\n",
       "    </tr>\n",
       "    <tr>\n",
       "      <th>145</th>\n",
       "      <td>6.7</td>\n",
       "      <td>3.0</td>\n",
       "      <td>5.2</td>\n",
       "      <td>2.3</td>\n",
       "      <td>virginica</td>\n",
       "    </tr>\n",
       "    <tr>\n",
       "      <th>146</th>\n",
       "      <td>6.3</td>\n",
       "      <td>2.5</td>\n",
       "      <td>5.0</td>\n",
       "      <td>1.9</td>\n",
       "      <td>virginica</td>\n",
       "    </tr>\n",
       "    <tr>\n",
       "      <th>147</th>\n",
       "      <td>6.5</td>\n",
       "      <td>3.0</td>\n",
       "      <td>5.2</td>\n",
       "      <td>2.0</td>\n",
       "      <td>virginica</td>\n",
       "    </tr>\n",
       "    <tr>\n",
       "      <th>148</th>\n",
       "      <td>6.2</td>\n",
       "      <td>3.4</td>\n",
       "      <td>5.4</td>\n",
       "      <td>2.3</td>\n",
       "      <td>virginica</td>\n",
       "    </tr>\n",
       "    <tr>\n",
       "      <th>149</th>\n",
       "      <td>5.9</td>\n",
       "      <td>3.0</td>\n",
       "      <td>5.1</td>\n",
       "      <td>1.8</td>\n",
       "      <td>virginica</td>\n",
       "    </tr>\n",
       "  </tbody>\n",
       "</table>\n",
       "<p>150 rows × 5 columns</p>\n",
       "</div>"
      ],
      "text/plain": [
       "     sepal_length  sepal_width  petal_length  petal_width    species\n",
       "0             5.1          3.5           1.4          0.2     setosa\n",
       "1             4.9          3.0           1.4          0.2     setosa\n",
       "2             4.7          3.2           1.3          0.2     setosa\n",
       "3             4.6          3.1           1.5          0.2     setosa\n",
       "4             5.0          3.6           1.4          0.2     setosa\n",
       "..            ...          ...           ...          ...        ...\n",
       "145           6.7          3.0           5.2          2.3  virginica\n",
       "146           6.3          2.5           5.0          1.9  virginica\n",
       "147           6.5          3.0           5.2          2.0  virginica\n",
       "148           6.2          3.4           5.4          2.3  virginica\n",
       "149           5.9          3.0           5.1          1.8  virginica\n",
       "\n",
       "[150 rows x 5 columns]"
      ]
     },
     "execution_count": 5,
     "metadata": {},
     "output_type": "execute_result"
    }
   ],
   "source": [
    "import pandas as pd\n",
    "import numpy as np\n",
    "import matplotlib.pyplot as plt\n",
    "data = pd.read_csv(\"iris.csv\" , sep=\",\")\n",
    "data"
   ]
  },
  {
   "cell_type": "markdown",
   "id": "e30873a5",
   "metadata": {},
   "source": [
    "# Step 2: Standardize the data (zero mean)"
   ]
  },
  {
   "cell_type": "code",
   "execution_count": 33,
   "id": "4c8ce884",
   "metadata": {},
   "outputs": [],
   "source": [
    "X = data.drop(columns=\"species\")\n"
   ]
  },
  {
   "cell_type": "code",
   "execution_count": 34,
   "id": "a00b58a5",
   "metadata": {},
   "outputs": [
    {
     "name": "stdout",
     "output_type": "stream",
     "text": [
      "Dimension of iris :  (150, 4)\n"
     ]
    }
   ],
   "source": [
    "y = data[\"species\"].map({\n",
    "    \"setosa\" : 0,\n",
    "    \"verginica\" : 1,\n",
    "    \"versicolor\" : 2\n",
    "})\n",
    "\n",
    "print(\"Dimension of iris : \",x.shape)"
   ]
  },
  {
   "cell_type": "code",
   "execution_count": 35,
   "id": "e2fcc0f6",
   "metadata": {},
   "outputs": [
    {
     "data": {
      "text/html": [
       "<div>\n",
       "<style scoped>\n",
       "    .dataframe tbody tr th:only-of-type {\n",
       "        vertical-align: middle;\n",
       "    }\n",
       "\n",
       "    .dataframe tbody tr th {\n",
       "        vertical-align: top;\n",
       "    }\n",
       "\n",
       "    .dataframe thead th {\n",
       "        text-align: right;\n",
       "    }\n",
       "</style>\n",
       "<table border=\"1\" class=\"dataframe\">\n",
       "  <thead>\n",
       "    <tr style=\"text-align: right;\">\n",
       "      <th></th>\n",
       "      <th>sepal_length</th>\n",
       "      <th>sepal_width</th>\n",
       "      <th>petal_length</th>\n",
       "      <th>petal_width</th>\n",
       "    </tr>\n",
       "  </thead>\n",
       "  <tbody>\n",
       "    <tr>\n",
       "      <th>0</th>\n",
       "      <td>-0.743333</td>\n",
       "      <td>0.442667</td>\n",
       "      <td>-2.358</td>\n",
       "      <td>-0.999333</td>\n",
       "    </tr>\n",
       "    <tr>\n",
       "      <th>1</th>\n",
       "      <td>-0.943333</td>\n",
       "      <td>-0.057333</td>\n",
       "      <td>-2.358</td>\n",
       "      <td>-0.999333</td>\n",
       "    </tr>\n",
       "    <tr>\n",
       "      <th>2</th>\n",
       "      <td>-1.143333</td>\n",
       "      <td>0.142667</td>\n",
       "      <td>-2.458</td>\n",
       "      <td>-0.999333</td>\n",
       "    </tr>\n",
       "    <tr>\n",
       "      <th>3</th>\n",
       "      <td>-1.243333</td>\n",
       "      <td>0.042667</td>\n",
       "      <td>-2.258</td>\n",
       "      <td>-0.999333</td>\n",
       "    </tr>\n",
       "    <tr>\n",
       "      <th>4</th>\n",
       "      <td>-0.843333</td>\n",
       "      <td>0.542667</td>\n",
       "      <td>-2.358</td>\n",
       "      <td>-0.999333</td>\n",
       "    </tr>\n",
       "    <tr>\n",
       "      <th>...</th>\n",
       "      <td>...</td>\n",
       "      <td>...</td>\n",
       "      <td>...</td>\n",
       "      <td>...</td>\n",
       "    </tr>\n",
       "    <tr>\n",
       "      <th>145</th>\n",
       "      <td>0.856667</td>\n",
       "      <td>-0.057333</td>\n",
       "      <td>1.442</td>\n",
       "      <td>1.100667</td>\n",
       "    </tr>\n",
       "    <tr>\n",
       "      <th>146</th>\n",
       "      <td>0.456667</td>\n",
       "      <td>-0.557333</td>\n",
       "      <td>1.242</td>\n",
       "      <td>0.700667</td>\n",
       "    </tr>\n",
       "    <tr>\n",
       "      <th>147</th>\n",
       "      <td>0.656667</td>\n",
       "      <td>-0.057333</td>\n",
       "      <td>1.442</td>\n",
       "      <td>0.800667</td>\n",
       "    </tr>\n",
       "    <tr>\n",
       "      <th>148</th>\n",
       "      <td>0.356667</td>\n",
       "      <td>0.342667</td>\n",
       "      <td>1.642</td>\n",
       "      <td>1.100667</td>\n",
       "    </tr>\n",
       "    <tr>\n",
       "      <th>149</th>\n",
       "      <td>0.056667</td>\n",
       "      <td>-0.057333</td>\n",
       "      <td>1.342</td>\n",
       "      <td>0.600667</td>\n",
       "    </tr>\n",
       "  </tbody>\n",
       "</table>\n",
       "<p>150 rows × 4 columns</p>\n",
       "</div>"
      ],
      "text/plain": [
       "     sepal_length  sepal_width  petal_length  petal_width\n",
       "0       -0.743333     0.442667        -2.358    -0.999333\n",
       "1       -0.943333    -0.057333        -2.358    -0.999333\n",
       "2       -1.143333     0.142667        -2.458    -0.999333\n",
       "3       -1.243333     0.042667        -2.258    -0.999333\n",
       "4       -0.843333     0.542667        -2.358    -0.999333\n",
       "..            ...          ...           ...          ...\n",
       "145      0.856667    -0.057333         1.442     1.100667\n",
       "146      0.456667    -0.557333         1.242     0.700667\n",
       "147      0.656667    -0.057333         1.442     0.800667\n",
       "148      0.356667     0.342667         1.642     1.100667\n",
       "149      0.056667    -0.057333         1.342     0.600667\n",
       "\n",
       "[150 rows x 4 columns]"
      ]
     },
     "execution_count": 35,
     "metadata": {},
     "output_type": "execute_result"
    }
   ],
   "source": [
    "X_meaned = X - np.mean(X , axis=0)\n",
    "X_meaned"
   ]
  },
  {
   "cell_type": "markdown",
   "id": "8f62f2a5",
   "metadata": {},
   "source": [
    "# Step 3: Compute the Covariance Matrix"
   ]
  },
  {
   "cell_type": "code",
   "execution_count": 36,
   "id": "e4c90ce5",
   "metadata": {
    "scrolled": true
   },
   "outputs": [
    {
     "data": {
      "text/plain": [
       "array([[ 0.68569351, -0.042434  ,  1.27431544,  0.51627069],\n",
       "       [-0.042434  ,  0.18997942, -0.32965638, -0.12163937],\n",
       "       [ 1.27431544, -0.32965638,  3.11627785,  1.2956094 ],\n",
       "       [ 0.51627069, -0.12163937,  1.2956094 ,  0.58100626]])"
      ]
     },
     "execution_count": 36,
     "metadata": {},
     "output_type": "execute_result"
    }
   ],
   "source": [
    "cov_met = np.cov(X_meaned , rowvar=False)\n",
    "cov_met"
   ]
  },
  {
   "cell_type": "markdown",
   "id": "cd5599f1",
   "metadata": {},
   "source": [
    "# Step 4: Compute eigenvalues and eigenvectors"
   ]
  },
  {
   "cell_type": "code",
   "execution_count": 37,
   "id": "73ff20e5",
   "metadata": {},
   "outputs": [
    {
     "name": "stdout",
     "output_type": "stream",
     "text": [
      "[0.02383509 0.0782095  0.24267075 4.22824171]\n",
      "[[ 0.31548719  0.58202985  0.65658877 -0.36138659]\n",
      " [-0.3197231  -0.59791083  0.73016143  0.08452251]\n",
      " [-0.47983899 -0.07623608 -0.17337266 -0.85667061]\n",
      " [ 0.75365743 -0.54583143 -0.07548102 -0.3582892 ]]\n"
     ]
    }
   ],
   "source": [
    "eigen = np.linalg.eigh(cov_met)\n",
    "eigen_values = eigen.eigenvalues\n",
    "eigen_vectors = eigen.eigenvectors\n",
    "print(eigen_values)\n",
    "print(eigen_vectors)"
   ]
  },
  {
   "cell_type": "markdown",
   "id": "49ea0584",
   "metadata": {},
   "source": [
    "# Step 5: Sort eigenvalues and eigenvectors"
   ]
  },
  {
   "cell_type": "code",
   "execution_count": 38,
   "id": "787b0e22",
   "metadata": {},
   "outputs": [
    {
     "name": "stdout",
     "output_type": "stream",
     "text": [
      "Sorted index :  [3 2 1 0]\n",
      "Sorted eigen values :  [4.22824171 0.24267075 0.0782095  0.02383509]\n",
      "Sorted index :  [[-0.36138659  0.65658877  0.58202985  0.31548719]\n",
      " [ 0.08452251  0.73016143 -0.59791083 -0.3197231 ]\n",
      " [-0.85667061 -0.17337266 -0.07623608 -0.47983899]\n",
      " [-0.3582892  -0.07548102 -0.54583143  0.75365743]]\n"
     ]
    }
   ],
   "source": [
    "sorted_index = np.argsort(eigen_values)[::-1]\n",
    "sorted_eigen_value = eigen_values[sorted_index]\n",
    "sorted_eigen_vectors = eigen_vectors[:,sorted_index]\n",
    "print(\"Sorted index : \",sorted_index)\n",
    "print(\"Sorted eigen values : \",sorted_eigen_value)\n",
    "print(\"Sorted index : \",sorted_eigen_vectors)"
   ]
  },
  {
   "cell_type": "markdown",
   "id": "2230c73b",
   "metadata": {},
   "source": [
    "# Step 6: Select the top k eigenvectors (top 2)"
   ]
  },
  {
   "cell_type": "code",
   "execution_count": 39,
   "id": "41ff9d25",
   "metadata": {},
   "outputs": [
    {
     "name": "stdout",
     "output_type": "stream",
     "text": [
      "(4, 2)\n"
     ]
    }
   ],
   "source": [
    "k = 2\n",
    "eigen_vectors_subset = sorted_eigen_vectors[:,0:k]\n",
    "print(eigen_vectors_subset.shape)"
   ]
  },
  {
   "cell_type": "markdown",
   "id": "c4831f32",
   "metadata": {},
   "source": [
    "# Step 7: Project the data onto the top k eigenvectors"
   ]
  },
  {
   "cell_type": "code",
   "execution_count": 40,
   "id": "70fceca9",
   "metadata": {},
   "outputs": [
    {
     "name": "stdout",
     "output_type": "stream",
     "text": [
      "(150, 2)\n"
     ]
    }
   ],
   "source": [
    "X_reduced = np.dot(X_meaned , eigen_vectors_subset)\n",
    "print(X_reduced.shape)"
   ]
  },
  {
   "cell_type": "markdown",
   "id": "0307d3b7",
   "metadata": {},
   "source": [
    "# Step 8: Plot the PCA-Reduced Data"
   ]
  },
  {
   "cell_type": "code",
   "execution_count": 43,
   "id": "f3d8979d",
   "metadata": {},
   "outputs": [
    {
     "data": {
      "image/png": "[encoded data removed]",
      "text/plain": [
       "<Figure size 800x600 with 1 Axes>"
      ]
     },
     "metadata": {},
     "output_type": "display_data"
    }
   ],
   "source": [
    "plt.figure(figsize=(8,6))\n",
    "plt.scatter(X_reduced[:,0],X_reduced[:,1], c=y, cmap='viridis')\n",
    "plt.xlabel('Principal Component 1')\n",
    "plt.xlabel('Principal Component 2')\n",
    "plt.title('PCA - IRIS Dataset')\n",
    "plt.grid(True)\n",
    "plt.show()"
   ]
  },
  {
   "cell_type": "markdown",
   "id": "5be22d0a",
   "metadata": {},
   "source": [
    "# Extra - Bining Method"
   ]
  },
  {
   "cell_type": "markdown",
   "id": "a199792d",
   "metadata": {},
   "source": [
    "# 5,10,11,13,15,35,50,55,72,92,204,215.\n",
    "Partition them into three bins by each of the following methods:\n",
    "(a) equal-frequency (equal-depth) partitioning\n",
    "(b) equal-width partitioning"
   ]
  },
  {
   "cell_type": "code",
   "execution_count": 23,
   "id": "2736ba83",
   "metadata": {},
   "outputs": [
    {
     "name": "stdout",
     "output_type": "stream",
     "text": [
      "Sorted Data: [5, 10, 11, 13, 15, 35, 50, 55, 72, 92, 204, 215]\n",
      "\n",
      "(a) Equal-Frequency Bins:\n",
      "Bin 1: [5, 10, 11, 13]\n",
      "Bin 2: [15, 35, 50, 55]\n",
      "Bin 3: [72, 92, 204, 215]\n",
      "\n",
      "(b) Equal-Width Bins:\n",
      "Bin 1: [5, 10, 11, 13, 15, 35, 50, 55, 72]\n",
      "Bin 2: [92]\n",
      "Bin 3: [204, 215]\n"
     ]
    }
   ],
   "source": []
  },
  {
   "cell_type": "code",
   "execution_count": null,
   "id": "2c77736f",
   "metadata": {},
   "outputs": [],
   "source": []
  }
 ],
 "metadata": {
  "kernelspec": {
   "display_name": "Python 3",
   "language": "python",
   "name": "python3"
  },
  "language_info": {
   "codemirror_mode": {
    "name": "ipython",
    "version": 3
   },
   "file_extension": ".py",
   "mimetype": "text/x-python",
   "name": "python",
   "nbconvert_exporter": "python",
   "pygments_lexer": "ipython3",
   "version": "3.13.1"
  }
 },
 "nbformat": 4,
 "nbformat_minor": 5
}
